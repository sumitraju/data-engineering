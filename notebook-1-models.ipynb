{
 "cells": [
  {
   "attachments": {},
   "cell_type": "markdown",
   "metadata": {},
   "source": [
    "# Acid Rain"
   ]
  },
  {
   "attachments": {},
   "cell_type": "markdown",
   "metadata": {},
   "source": [
    "## Analysis"
   ]
  },
  {
   "cell_type": "code",
   "execution_count": null,
   "metadata": {},
   "outputs": [],
   "source": [
    "import pandas as pd\n",
    "import numpy as np"
   ]
  },
  {
   "cell_type": "code",
   "execution_count": null,
   "metadata": {},
   "outputs": [],
   "source": [
    "import math\n",
    "import os\n",
    "import glob\n",
    "import datetime\n",
    "import re"
   ]
  },
  {
   "cell_type": "code",
   "execution_count": null,
   "metadata": {},
   "outputs": [],
   "source": [
    "#Import cleaned data \n",
    "\n",
    "nb_acid_rain = pd.read_csv(\"data/nb_acid_rain.csv\", low_memory=False)"
   ]
  },
  {
   "attachments": {},
   "cell_type": "markdown",
   "metadata": {},
   "source": [
    "## Models"
   ]
  },
  {
   "attachments": {},
   "cell_type": "markdown",
   "metadata": {},
   "source": [
    "#### Time Series Forecast"
   ]
  },
  {
   "cell_type": "code",
   "execution_count": null,
   "metadata": {},
   "outputs": [],
   "source": [
    "nb_acid_rain_models_1 = nb_acid_rain[(nb_acid_rain['YEAR_NO'] == 2021)].copy()"
   ]
  },
  {
   "cell_type": "code",
   "execution_count": null,
   "metadata": {},
   "outputs": [],
   "source": [
    "nb_acid_rain_models_1[\"TO_DATE\"] = pd.to_datetime(nb_acid_rain_models_1[\"TO_DATE\"])\n",
    "\n",
    "#nb_acid_rain_models_1['year'] = pd.DatetimeIndex(nb_acid_rain_models_1['TO_DATE']).year\n",
    "#nb_acid_rain_models_1['month'] = pd.DatetimeIndex(nb_acid_rain_models_1['TO_DATE']).month\n",
    "#nb_acid_rain_models_1['day'] = pd.DatetimeIndex(nb_acid_rain_models_1['TO_DATE']).day\n",
    "\n",
    "nb_acid_rain_models_1.set_index('TO_DATE')"
   ]
  },
  {
   "cell_type": "code",
   "execution_count": null,
   "metadata": {},
   "outputs": [],
   "source": [
    "from sklearn.impute import SimpleImputer\n",
    "from sklearn.ensemble import RandomForestRegressor"
   ]
  },
  {
   "cell_type": "code",
   "execution_count": null,
   "metadata": {},
   "outputs": [],
   "source": [
    "nb_acid_rain_models_1 = nb_acid_rain_models_1[[\"STATION_NAME\", \"WEEK_NO\",\"PH\"]].copy()"
   ]
  },
  {
   "cell_type": "code",
   "execution_count": null,
   "metadata": {},
   "outputs": [],
   "source": [
    "#nb_acid_rain_models_melt = nb_acid_rain_models_1.melt(id_vars=\"STATION_NAME\", var_name=\"WEEK_NO\", value_name=\"PH (pH)\")"
   ]
  },
  {
   "cell_type": "code",
   "execution_count": null,
   "metadata": {},
   "outputs": [],
   "source": [
    "nb_acid_rain_models_1 = nb_acid_rain_models_1.sort_values(['WEEK_NO',\"STATION_NAME\"])"
   ]
  },
  {
   "attachments": {},
   "cell_type": "markdown",
   "metadata": {},
   "source": [
    "#### Split the data"
   ]
  },
  {
   "cell_type": "code",
   "execution_count": null,
   "metadata": {},
   "outputs": [],
   "source": [
    "split_point = 40\n",
    "nb_acid_train = nb_acid_rain_models_1[nb_acid_rain_models_1['WEEK_NO'] < split_point].copy()\n",
    "nb_acid_valid = nb_acid_rain_models_1[nb_acid_rain_models_1['WEEK_NO'] >= split_point].copy()"
   ]
  },
  {
   "attachments": {},
   "cell_type": "markdown",
   "metadata": {},
   "source": [
    "#### Next week's value as target/y"
   ]
  },
  {
   "cell_type": "code",
   "execution_count": null,
   "metadata": {},
   "outputs": [],
   "source": [
    "nb_acid_train['ph_next_week'] = nb_acid_train.groupby(\"STATION_NAME\")['PH'].shift(-1)\n",
    "\n",
    "nb_acid_valid['ph_next_week'] = nb_acid_valid.groupby(\"STATION_NAME\")['PH'].shift(-1)"
   ]
  },
  {
   "cell_type": "code",
   "execution_count": null,
   "metadata": {},
   "outputs": [],
   "source": [
    "nb_acid_train['ph_next_week'] = nb_acid_train['ph_next_week'].fillna(nb_acid_train.groupby(\"STATION_NAME\")['ph_next_week'].transform('mean'))\n",
    "nb_acid_valid['ph_next_week'] = nb_acid_valid['ph_next_week'].fillna(nb_acid_valid.groupby(\"STATION_NAME\")['ph_next_week'].transform('mean'))"
   ]
  },
  {
   "attachments": {},
   "cell_type": "markdown",
   "metadata": {},
   "source": [
    "##### Previous week pH value in a column"
   ]
  },
  {
   "cell_type": "code",
   "execution_count": null,
   "metadata": {},
   "outputs": [],
   "source": [
    "nb_acid_train[\"lag_ph_1\"] = nb_acid_train.groupby(\"STATION_NAME\")['PH'].shift(1)\n",
    "nb_acid_valid[\"lag_ph_1\"] = nb_acid_valid.groupby(\"STATION_NAME\")['PH'].shift(1)"
   ]
  },
  {
   "cell_type": "code",
   "execution_count": null,
   "metadata": {},
   "outputs": [],
   "source": [
    "nb_acid_train['lag_ph_1'] = nb_acid_train['lag_ph_1'].fillna(nb_acid_train.groupby(\"STATION_NAME\")['lag_ph_1'].transform('mean'))\n",
    "nb_acid_valid['lag_ph_1'] = nb_acid_valid['lag_ph_1'].fillna(nb_acid_valid.groupby(\"STATION_NAME\")['lag_ph_1'].transform('mean'))"
   ]
  },
  {
   "attachments": {},
   "cell_type": "markdown",
   "metadata": {},
   "source": [
    "##### Difference in Previous week's and this week's pH value in a column"
   ]
  },
  {
   "cell_type": "code",
   "execution_count": null,
   "metadata": {},
   "outputs": [],
   "source": [
    "nb_acid_train[\"diff_ph_1\"] = nb_acid_train.groupby(\"STATION_NAME\")['PH'].diff(1)\n",
    "nb_acid_valid[\"diff_ph_1\"] = nb_acid_valid.groupby(\"STATION_NAME\")['PH'].diff(1)"
   ]
  },
  {
   "cell_type": "code",
   "execution_count": null,
   "metadata": {},
   "outputs": [],
   "source": [
    "nb_acid_train['diff_ph_1'] = nb_acid_train['diff_ph_1'].fillna(nb_acid_train.groupby(\"STATION_NAME\")['diff_ph_1'].transform('mean'))\n",
    "nb_acid_valid['diff_ph_1'] = nb_acid_valid['diff_ph_1'].fillna(nb_acid_valid.groupby(\"STATION_NAME\")['diff_ph_1'].transform('mean'))"
   ]
  },
  {
   "attachments": {},
   "cell_type": "markdown",
   "metadata": {},
   "source": [
    "##### Mean of pH in a column"
   ]
  },
  {
   "cell_type": "code",
   "execution_count": null,
   "metadata": {},
   "outputs": [],
   "source": [
    "nb_acid_train[\"mean_ph\"] = nb_acid_train.groupby(\"STATION_NAME\")['PH'].transform('mean')\n",
    "nb_acid_valid[\"mean_ph\"] = nb_acid_valid.groupby(\"STATION_NAME\")['PH'].transform('mean')"
   ]
  },
  {
   "attachments": {},
   "cell_type": "markdown",
   "metadata": {},
   "source": [
    "#### Establish baseline"
   ]
  },
  {
   "cell_type": "code",
   "execution_count": null,
   "metadata": {},
   "outputs": [],
   "source": [
    "y_pred = nb_acid_train['PH']\n",
    "y_true = nb_acid_train['ph_next_week']"
   ]
  },
  {
   "cell_type": "code",
   "execution_count": null,
   "metadata": {},
   "outputs": [],
   "source": [
    "#Export Combined Dataset to a CSV\n",
    "#nb_acid_model_test = pd.concat([nb_acid_train,nb_acid_valid])\n",
    "#nb_acid_model_test.to_csv(\"nb_acid_model_test.csv\", sep=',',index=False,encoding='utf-8-sig')"
   ]
  },
  {
   "cell_type": "code",
   "execution_count": null,
   "metadata": {},
   "outputs": [],
   "source": [
    "nb_acid_valid.isna().sum()"
   ]
  },
  {
   "attachments": {},
   "cell_type": "markdown",
   "metadata": {},
   "source": [
    "#### Evaluation metric"
   ]
  },
  {
   "cell_type": "code",
   "execution_count": null,
   "metadata": {},
   "outputs": [],
   "source": [
    "def mape(y_true, y_pred):\n",
    "    ape = np.abs((y_true - y_pred) / y_true)\n",
    "    #ape[~np.isfinite(ape)] = 0. # VERY questionable\n",
    "    ape[~np.isfinite(ape)] = 1. # pessimist estimate\n",
    "    return np.mean(ape)\n",
    "\n",
    "def wmape(y_true, y_pred):\n",
    "    return np.sum(np.abs(y_true - y_pred)) / np.sum(np.abs(y_true))"
   ]
  },
  {
   "cell_type": "code",
   "execution_count": null,
   "metadata": {},
   "outputs": [],
   "source": [
    "mape(y_true, y_pred)"
   ]
  },
  {
   "cell_type": "code",
   "execution_count": null,
   "metadata": {},
   "outputs": [],
   "source": [
    "wmape(y_true, y_pred)"
   ]
  },
  {
   "cell_type": "code",
   "execution_count": null,
   "metadata": {},
   "outputs": [],
   "source": [
    "features = ['PH', 'lag_ph_1', 'diff_ph_1', 'mean_ph']"
   ]
  },
  {
   "attachments": {},
   "cell_type": "markdown",
   "metadata": {},
   "source": [
    "#### Train the model"
   ]
  },
  {
   "cell_type": "code",
   "execution_count": null,
   "metadata": {},
   "outputs": [],
   "source": [
    "imputer = SimpleImputer()\n",
    "Xtr = imputer.fit_transform(nb_acid_train[features])\n",
    "ytr = nb_acid_train['ph_next_week']\n",
    "\n",
    "\n",
    "mdl = RandomForestRegressor(n_estimators=100, random_state=0, n_jobs=6)\n",
    "mdl.fit(Xtr, ytr)"
   ]
  },
  {
   "attachments": {},
   "cell_type": "markdown",
   "metadata": {},
   "source": [
    "#### Evaluate the model"
   ]
  },
  {
   "cell_type": "code",
   "execution_count": null,
   "metadata": {},
   "outputs": [],
   "source": [
    "Xval = imputer.transform(nb_acid_valid[features])\n",
    "yval = nb_acid_valid['ph_next_week']\n",
    "\n",
    "p = mdl.predict(Xval)"
   ]
  },
  {
   "cell_type": "code",
   "execution_count": null,
   "metadata": {},
   "outputs": [],
   "source": [
    "mape(yval, p)"
   ]
  },
  {
   "cell_type": "code",
   "execution_count": null,
   "metadata": {},
   "outputs": [],
   "source": [
    "wmape(yval, p)"
   ]
  },
  {
   "attachments": {},
   "cell_type": "markdown",
   "metadata": {},
   "source": [
    "#### Extend the model to predict n-steps"
   ]
  },
  {
   "cell_type": "code",
   "execution_count": null,
   "metadata": {},
   "outputs": [],
   "source": [
    "nb_acid_train['ph_next_next_week'] = nb_acid_train.groupby(\"STATION_NAME\")['PH'].shift(-2)\n",
    "nb_acid_valid['ph_next_next_week'] = nb_acid_valid.groupby(\"STATION_NAME\")['PH'].shift(-2)"
   ]
  },
  {
   "cell_type": "code",
   "execution_count": null,
   "metadata": {},
   "outputs": [],
   "source": [
    "nb_acid_train['ph_next_next_week'] = nb_acid_train['ph_next_next_week'].fillna(nb_acid_train.groupby(\"STATION_NAME\")['ph_next_next_week'].transform('mean'))\n",
    "nb_acid_valid['ph_next_next_week'] = nb_acid_valid['ph_next_next_week'].fillna(nb_acid_valid.groupby(\"STATION_NAME\")['ph_next_next_week'].transform('mean'))"
   ]
  },
  {
   "cell_type": "code",
   "execution_count": null,
   "metadata": {},
   "outputs": [],
   "source": [
    "nb_acid_train = nb_acid_train.dropna(subset=['ph_next_week','ph_next_next_week'])"
   ]
  },
  {
   "cell_type": "code",
   "execution_count": null,
   "metadata": {},
   "outputs": [],
   "source": [
    "imputer = SimpleImputer()\n",
    "Xtr = imputer.fit_transform(nb_acid_train[features])\n",
    "ytr = nb_acid_train[['ph_next_week', 'ph_next_next_week']]\n",
    "\n",
    "mdl = RandomForestRegressor(n_estimators=100, random_state=0, n_jobs=6)\n",
    "mdl.fit(Xtr, ytr)"
   ]
  },
  {
   "cell_type": "code",
   "execution_count": null,
   "metadata": {},
   "outputs": [],
   "source": [
    "Xval = imputer.transform(nb_acid_valid[features])\n",
    "yval = nb_acid_valid[['ph_next_week', 'ph_next_next_week']]\n",
    "\n",
    "p = mdl.predict(Xval)"
   ]
  },
  {
   "cell_type": "code",
   "execution_count": null,
   "metadata": {},
   "outputs": [],
   "source": [
    "mdl.score(Xval, yval)"
   ]
  },
  {
   "attachments": {},
   "cell_type": "markdown",
   "metadata": {},
   "source": [
    "#### Predicting new examples"
   ]
  },
  {
   "cell_type": "code",
   "execution_count": null,
   "metadata": {},
   "outputs": [],
   "source": [
    "new_examples = nb_acid_valid[nb_acid_valid['WEEK_NO'] == 48].copy()"
   ]
  },
  {
   "cell_type": "code",
   "execution_count": null,
   "metadata": {},
   "outputs": [],
   "source": [
    "new_examples = new_examples.dropna()"
   ]
  },
  {
   "cell_type": "code",
   "execution_count": null,
   "metadata": {},
   "outputs": [],
   "source": [
    "p = mdl.predict(new_examples[features])"
   ]
  },
  {
   "cell_type": "code",
   "execution_count": null,
   "metadata": {},
   "outputs": [],
   "source": [
    "new_examples['p_ph_next_week'] = p[:, 0]\n",
    "new_examples['p_ph_next_next_week'] = p[:, 1]"
   ]
  },
  {
   "cell_type": "code",
   "execution_count": null,
   "metadata": {},
   "outputs": [],
   "source": [
    "new_examples.head()"
   ]
  }
 ],
 "metadata": {
  "kernelspec": {
   "display_name": "Python 3",
   "language": "python",
   "name": "python3"
  },
  "language_info": {
   "codemirror_mode": {
    "name": "ipython",
    "version": 3
   },
   "file_extension": ".py",
   "mimetype": "text/x-python",
   "name": "python",
   "nbconvert_exporter": "python",
   "pygments_lexer": "ipython3",
   "version": "3.9.0"
  },
  "orig_nbformat": 4,
  "vscode": {
   "interpreter": {
    "hash": "c481cd3fc83eb5588546703e9d94f1058347710cd104ca041365c752440aa931"
   }
  }
 },
 "nbformat": 4,
 "nbformat_minor": 2
}
